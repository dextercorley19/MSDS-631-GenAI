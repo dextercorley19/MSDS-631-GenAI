{
  "nbformat": 4,
  "nbformat_minor": 0,
  "metadata": {
    "colab": {
      "provenance": []
    },
    "kernelspec": {
      "name": "python3",
      "display_name": "Python 3"
    },
    "language_info": {
      "name": "python"
    }
  },
  "cells": [
    {
      "cell_type": "code",
      "execution_count": 5,
      "metadata": {
        "colab": {
          "base_uri": "https://localhost:8080/"
        },
        "id": "0_QcimUDJDEH",
        "outputId": "a3f6fd6b-5e68-42b1-9229-15b99577ca17"
      },
      "outputs": [
        {
          "output_type": "stream",
          "name": "stdout",
          "text": [
            "Downloading image...\n",
            "Generated Caption: A dog sits in a grassy field\n"
          ]
        }
      ],
      "source": [
        "import torch\n",
        "from transformers import CLIPProcessor, CLIPModel\n",
        "from PIL import Image\n",
        "import requests\n",
        "from io import BytesIO\n",
        "\n",
        "# Function to download image with error handling\n",
        "def download_image(url, filename):\n",
        "    try:\n",
        "        response = requests.get(url, timeout=10)\n",
        "        if response.status_code != 200 or 'image' not in response.headers['content-type']:\n",
        "            raise ValueError(\"URL did not return a valid image\")\n",
        "        img = Image.open(BytesIO(response.content)).convert(\"RGB\")\n",
        "        img.save(filename)\n",
        "        return img\n",
        "    except Exception as e:\n",
        "        print(f\"Error downloading image: {e}\")\n",
        "        raise\n",
        "\n",
        "# Image URL and filename\n",
        "image_url = \"https://images.unsplash.com/photo-1561037404-61cd46aa615b\"\n",
        "image_filename = \"dog.jpg\"\n",
        "\n",
        "# Download image\n",
        "print(\"Downloading image...\")\n",
        "try:\n",
        "    image = download_image(image_url, image_filename)\n",
        "except Exception as e:\n",
        "    print(\"Failed to download image. Please check the URL or try manually downloading.\")\n",
        "    exit(1)\n",
        "\n",
        "# Load CLIP model\n",
        "clip_model = CLIPModel.from_pretrained(\"openai/clip-vit-base-patch32\")\n",
        "clip_processor = CLIPProcessor.from_pretrained(\"openai/clip-vit-base-patch32\")\n",
        "\n",
        "# Set device\n",
        "device = \"cuda\" if torch.cuda.is_available() else \"cpu\"\n",
        "clip_model.to(device)\n",
        "\n",
        "# Candidate captions\n",
        "captions = [\n",
        "    \"A dog sits in a grassy field\",\n",
        "    \"A cat sleeps on a couch\",\n",
        "    \"A sunset over a beach\",\n",
        "    \"Kids play soccer\",\n",
        "    \"A bird flies in the sky\"\n",
        "]\n",
        "\n",
        "# Process image and captions\n",
        "inputs = clip_processor(\n",
        "    text=captions,\n",
        "    images=image,\n",
        "    return_tensors=\"pt\",\n",
        "    padding=True\n",
        ").to(device)\n",
        "\n",
        "# Generate embeddings\n",
        "with torch.no_grad():\n",
        "    outputs = clip_model(**inputs)\n",
        "    image_embedding = outputs.image_embeds  # [1, 512]\n",
        "    text_embeddings = outputs.text_embeds  # [num_captions, 512]\n",
        "\n",
        "# Compute cosine similarity (normalized dot product)\n",
        "image_embedding = image_embedding / image_embedding.norm(dim=-1, keepdim=True)\n",
        "text_embeddings = text_embeddings / text_embeddings.norm(dim=-1, keepdim=True)\n",
        "similarities = (image_embedding @ text_embeddings.T).squeeze(0)  # [num_captions]\n",
        "\n",
        "# Select the best caption\n",
        "best_idx = similarities.argmax().item()\n",
        "best_caption = captions[best_idx]\n",
        "print(\"Generated Caption:\", best_caption)\n",
        "# note that the above is not completely accurate, but it is the closest label given the possible captions."
      ]
    },
    {
      "cell_type": "code",
      "source": [],
      "metadata": {
        "id": "6X2pduqvJD0R"
      },
      "execution_count": null,
      "outputs": []
    }
  ]
}